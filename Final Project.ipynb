{
 "cells": [
  {
   "cell_type": "markdown",
   "metadata": {},
   "source": [
    "# COGS 108: Cinema-Income Correlation in the United States"
   ]
  },
  {
   "cell_type": "markdown",
   "metadata": {},
   "source": [
    "Group members:\n",
    "\n",
    "name,\n",
    "name,\n",
    "name,\n",
    "name,\n",
    "Shannon Chu"
   ]
  },
  {
   "cell_type": "markdown",
   "metadata": {},
   "source": [
    "# Introduction and Background"
   ]
  },
  {
   "cell_type": "markdown",
   "metadata": {},
   "source": [
    "The fluctuations of economy seem to affect every aspect of our lives. Such as, where we live, where we\n",
    "eat, or even what movies we see. When median household incomes are not thriving, we tend to be more\n",
    "cautious of our money. Individuals become less willing to spend money on non-necessities in order to get\n",
    "by. We believe that during economic troubles most of an individual's household income is used to pay for\n",
    "necessities such as mortgage payments and possibly to save up for an emergency that can arise such as\n",
    "being unemployed. Therefore, individuals will be more hesitant to spend money on things such as watching\n",
    "movies. We believe that movie’s revenue value during times of economic troubles will not be outstanding\n",
    "due to the fact that individuals are not watching movies in a constant basis.\n",
    "\n",
    "In addition, if and when individuals decide to go see a movie, those individuals will be more selective in the\n",
    "movie they see. They might decide to watch a movie based on the actors in the movie or simply the genre of\n",
    "the movie. We believe that during economic troubles, certain genres of movies will prosper over others\n",
    "because people will tend to be more selective and narrow down the movies they decide to watch. We will\n",
    "use data from GDP and from movie collected data to test our beliefs"
   ]
  },
  {
   "cell_type": "markdown",
   "metadata": {},
   "source": [
    "### Background:\n",
    "\n",
    "Since the year 2000, the domestic economy in the United States has experienced many ups and\n",
    "downs. Historically, people have been forced to become more innovative to improve their quality of life in\n",
    "times of scarcity, such as during the Great Depression or the 2008 recession. In that regard, we hypothesize\n",
    "that people who watch movies in theaters when the economy is not doing well will be looking for an escape\n",
    "from their daily lives and therefore give movies better ratings than in other years. In addition, we might find\n",
    "a correlation with box office values with median household incomes. We hypothesize that box office values\n",
    "will be negatively correlated with median household incomes.\n",
    "\n",
    "Initially, we hypothesized that during years when the economy is bad and household incomes are\n",
    "lower than usual, moviegoers will rate movies being played in theaters higher than in other years. However,\n",
    "we can take this hypothesis a step further by also asking whether moviegoers will prefer to see specific\n",
    "genres of movies during years when household incomes are low in comparison to genres preferred in years\n",
    "when household incomes are higher. During economic falls, individuals usually will have a lower household\n",
    "median income for their expenses and leisure activities. During such times individuals tend to spend less\n",
    "money on leisure activities, such as going to the theaters. We assume that individuals will be more selective\n",
    "with the movies they watch during economic troubles. This claim is an unsupported one and possibly\n",
    "biased.\n",
    "\n",
    "The aim of our project is finding trends in ratings and box office earnings of movies and movie\n",
    "genres. Therefore, we need data with information about household incomes; this would be easiest to\n",
    "accomplish with data from the United States using the US Census Bureau. We also need to collect\n",
    "information about genres of movies and box office revenues of movies in and the year they aired."
   ]
  },
  {
   "cell_type": "markdown",
   "metadata": {},
   "source": [
    "# Hypothesis"
   ]
  },
  {
   "cell_type": "markdown",
   "metadata": {},
   "source": [
    "When the economy is not doing well (people have relatively low income), we predict that box office/ratings\n",
    "for movies, in general, will be higher. In addition, when in years where incomes are relatively low compared\n",
    "to other years, moviegoers will gravitate toward specific genres of movies. On the other hand, when the\n",
    "economy is doing well, moviegoers will prefer other genres of movies."
   ]
  },
  {
   "cell_type": "markdown",
   "metadata": {},
   "source": [
    "# Data Wrangling"
   ]
  },
  {
   "cell_type": "markdown",
   "metadata": {},
   "source": [
    "We set out to find a dataset containing movie-data from 1984 to 2015. We believe that this\n",
    "timeframe encompasses a variety of economic fluctuation such as the period of Reaganomics and\n",
    "the 2008 recession that will allow us to find a distinction between movies watched during\n",
    "outstanding economic times and economic struggles. More specifically, it will help us\n",
    "distinguish genres, revenue values, and possibly ratings of movies. Because of the criteria we set,\n",
    "we had to find a dataset containing average house-hold incomes ranging from 1984 to 2015."
   ]
  },
  {
   "cell_type": "markdown",
   "metadata": {},
   "source": [
    "# Dataset Descriptions"
   ]
  },
  {
   "cell_type": "markdown",
   "metadata": {},
   "source": [
    "### Dataset: GDP\n",
    "\n",
    "Dataset Description: This dataset contains data about the United States' GDP from 1947 to 2016\n",
    "\n",
    "Link to dataset: https://query.data.world/s/gw6ftdnaltg55ldak7f5y45bj4hytx"
   ]
  },
  {
   "cell_type": "markdown",
   "metadata": {},
   "source": [
    "### Dataset: TODO\n",
    "\n",
    "#YOUR DATASET HERE"
   ]
  },
  {
   "cell_type": "markdown",
   "metadata": {},
   "source": [
    "# Loading and Cleaning Data"
   ]
  },
  {
   "cell_type": "code",
   "execution_count": 10,
   "metadata": {},
   "outputs": [],
   "source": [
    "#Imports"
   ]
  },
  {
   "cell_type": "markdown",
   "metadata": {},
   "source": [
    "### GDP"
   ]
  },
  {
   "cell_type": "code",
   "execution_count": 11,
   "metadata": {},
   "outputs": [],
   "source": [
    "#todo"
   ]
  },
  {
   "cell_type": "markdown",
   "metadata": {},
   "source": [
    "# Data Exploration"
   ]
  },
  {
   "cell_type": "markdown",
   "metadata": {},
   "source": [
    "### GDP"
   ]
  },
  {
   "cell_type": "code",
   "execution_count": 12,
   "metadata": {},
   "outputs": [],
   "source": [
    "#todo"
   ]
  },
  {
   "cell_type": "markdown",
   "metadata": {},
   "source": [
    "# Data Analysis"
   ]
  },
  {
   "cell_type": "markdown",
   "metadata": {},
   "source": [
    "### GDP"
   ]
  },
  {
   "cell_type": "code",
   "execution_count": 13,
   "metadata": {},
   "outputs": [],
   "source": [
    "#todo"
   ]
  },
  {
   "cell_type": "markdown",
   "metadata": {},
   "source": [
    "# Ethical Considerations and Other Key Points"
   ]
  },
  {
   "cell_type": "markdown",
   "metadata": {},
   "source": [
    "#TODO\n",
    "\n",
    "manny?"
   ]
  },
  {
   "cell_type": "markdown",
   "metadata": {},
   "source": [
    "# Conclusion"
   ]
  },
  {
   "cell_type": "markdown",
   "metadata": {},
   "source": [
    "#TBD"
   ]
  }
 ],
 "metadata": {
  "kernelspec": {
   "display_name": "Python 3",
   "language": "python",
   "name": "python3"
  },
  "language_info": {
   "codemirror_mode": {
    "name": "ipython",
    "version": 3
   },
   "file_extension": ".py",
   "mimetype": "text/x-python",
   "name": "python",
   "nbconvert_exporter": "python",
   "pygments_lexer": "ipython3",
   "version": "3.6.7"
  }
 },
 "nbformat": 4,
 "nbformat_minor": 2
}
