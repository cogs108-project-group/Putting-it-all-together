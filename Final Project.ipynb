{
 "cells": [
  {
   "cell_type": "markdown",
   "metadata": {},
   "source": [
    "# COGS 108: Cinema-Income Correlation in the United States"
   ]
  },
  {
   "cell_type": "markdown",
   "metadata": {},
   "source": [
    "Group members:\n",
    "\n",
    "name,\n",
    "name,\n",
    "name,\n",
    "name,\n",
    "Shannon Chu"
   ]
  },
  {
   "cell_type": "markdown",
   "metadata": {},
   "source": [
    "# Introduction and Background"
   ]
  },
  {
   "cell_type": "markdown",
   "metadata": {},
   "source": [
    "The fluctuations of economy seem to affect every aspect of our lives. Such as, where we live, where we\n",
    "eat, or even what movies we see. When median household incomes are not thriving, we tend to be more\n",
    "cautious of our money. Individuals become less willing to spend money on non-necessities in order to get\n",
    "by. We believe that during economic troubles most of an individual's household income is used to pay for\n",
    "necessities such as mortgage payments and possibly to save up for an emergency that can arise such as\n",
    "being unemployed. Therefore, individuals will be more hesitant to spend money on things such as watching\n",
    "movies. We believe that movie’s revenue value during times of economic troubles will not be outstanding\n",
    "due to the fact that individuals are not watching movies in a constant basis.\n",
    "\n",
    "In addition, if and when individuals decide to go see a movie, those individuals will be more selective in the\n",
    "movie they see. They might decide to watch a movie based on the actors in the movie or simply the genre of\n",
    "the movie. We believe that during economic troubles, certain genres of movies will prosper over others\n",
    "because people will tend to be more selective and narrow down the movies they decide to watch. We will\n",
    "use data from GDP and from movie collected data to test our beliefs"
   ]
  },
  {
   "cell_type": "markdown",
   "metadata": {},
   "source": [
    "### Background:\n",
    "\n",
    "Since the year 2000, the domestic economy in the United States has experienced many ups and\n",
    "downs. Historically, people have been forced to become more innovative to improve their quality of life in\n",
    "times of scarcity, such as during the Great Depression or the 2008 recession. In that regard, we hypothesize\n",
    "that people who watch movies in theaters when the economy is not doing well will be looking for an escape\n",
    "from their daily lives and therefore give movies better ratings than in other years. In addition, we might find\n",
    "a correlation with box office values with median household incomes. We hypothesize that box office values\n",
    "will be negatively correlated with median household incomes.\n",
    "\n",
    "Initially, we hypothesized that during years when the economy is bad and household incomes are\n",
    "lower than usual, moviegoers will rate movies being played in theaters higher than in other years. However,\n",
    "we can take this hypothesis a step further by also asking whether moviegoers will prefer to see specific\n",
    "genres of movies during years when household incomes are low in comparison to genres preferred in years\n",
    "when household incomes are higher. During economic falls, individuals usually will have a lower household\n",
    "median income for their expenses and leisure activities. During such times individuals tend to spend less\n",
    "money on leisure activities, such as going to the theaters. We assume that individuals will be more selective\n",
    "with the movies they watch during economic troubles. This claim is an unsupported one and possibly\n",
    "biased.\n",
    "\n",
    "The aim of our project is finding trends in ratings and box office earnings of movies and movie\n",
    "genres. Therefore, we need data with information about household incomes; this would be easiest to\n",
    "accomplish with data from the United States using the US Census Bureau. We also need to collect\n",
    "information about genres of movies and box office revenues of movies in and the year they aired."
   ]
  },
  {
   "cell_type": "markdown",
   "metadata": {},
   "source": [
    "# Hypothesis"
   ]
  },
  {
   "cell_type": "markdown",
   "metadata": {},
   "source": [
    "When the economy is not doing well (people have relatively low income), we predict that box office/ratings\n",
    "for movies, in general, will be higher. In addition, when in years where incomes are relatively low compared\n",
    "to other years, moviegoers will gravitate toward specific genres of movies. On the other hand, when the\n",
    "economy is doing well, moviegoers will prefer other genres of movies."
   ]
  },
  {
   "cell_type": "markdown",
   "metadata": {},
   "source": [
    "# Data Wrangling"
   ]
  },
  {
   "cell_type": "markdown",
   "metadata": {},
   "source": [
    "We set out to find a dataset containing movie-data from 1984 to 2015. We believe that this\n",
    "timeframe encompasses a variety of economic fluctuation such as the period of Reaganomics and\n",
    "the 2008 recession that will allow us to find a distinction between movies watched during\n",
    "outstanding economic times and economic struggles. More specifically, it will help us\n",
    "distinguish genres, revenue values, and possibly ratings of movies. Because of the criteria we set,\n",
    "we had to find a dataset containing average house-hold incomes ranging from 1984 to 2015."
   ]
  },
  {
   "cell_type": "markdown",
   "metadata": {},
   "source": [
    "# Dataset Descriptions"
   ]
  },
  {
   "cell_type": "markdown",
   "metadata": {},
   "source": [
    "### Dataset: GDP\n",
    "\n",
    "Dataset Description: This dataset contains data about the United States' GDP from 1947 to 2016\n",
    "\n",
    "Link to dataset: https://query.data.world/s/gw6ftdnaltg55ldak7f5y45bj4hytx"
   ]
  },
  {
   "cell_type": "markdown",
   "metadata": {},
   "source": [
    "### Dataset: TODO\n",
    "\n",
    "Dataset Description:\n",
    "\n",
    "Link to dataset:"
   ]
  },
  {
   "cell_type": "markdown",
   "metadata": {},
   "source": [
    "# Loading and Cleaning Data"
   ]
  },
  {
   "cell_type": "code",
   "execution_count": 5,
   "metadata": {},
   "outputs": [
    {
     "name": "stdout",
     "output_type": "stream",
     "text": [
      "\u001b[33mThe directory '/home/jovyan/.cache/pip/http' or its parent directory is not owned by the current user and the cache has been disabled. Please check the permissions and owner of that directory. If executing pip with sudo, you may want sudo's -H flag.\u001b[0m\n",
      "\u001b[33mThe directory '/home/jovyan/.cache/pip' or its parent directory is not owned by the current user and caching wheels has been disabled. check the permissions and owner of that directory. If executing pip with sudo, you may want sudo's -H flag.\u001b[0m\n",
      "Requirement already satisfied: cpi in /home/slc027/.local/lib/python3.6/site-packages (0.1.15)\n",
      "Requirement already satisfied: python-dateutil>=2.7.3 in /opt/conda/lib/python3.6/site-packages (from cpi) (2.7.5)\n",
      "Requirement already satisfied: requests>=2.20.0 in /home/slc027/.local/lib/python3.6/site-packages (from cpi) (2.22.0)\n",
      "Requirement already satisfied: click>=6.7 in /home/slc027/.local/lib/python3.6/site-packages (from cpi) (7.0)\n",
      "Requirement already satisfied: pandas>=0.23.1 in /opt/conda/lib/python3.6/site-packages (from cpi) (0.23.4)\n",
      "Requirement already satisfied: six>=1.5 in /opt/conda/lib/python3.6/site-packages (from python-dateutil>=2.7.3->cpi) (1.12.0)\n",
      "Requirement already satisfied: certifi>=2017.4.17 in /opt/conda/lib/python3.6/site-packages (from requests>=2.20.0->cpi) (2019.3.9)\n",
      "Requirement already satisfied: chardet<3.1.0,>=3.0.2 in /opt/conda/lib/python3.6/site-packages (from requests>=2.20.0->cpi) (3.0.4)\n",
      "Requirement already satisfied: urllib3!=1.25.0,!=1.25.1,<1.26,>=1.21.1 in /opt/conda/lib/python3.6/site-packages (from requests>=2.20.0->cpi) (1.24.1)\n",
      "Requirement already satisfied: idna<2.9,>=2.5 in /opt/conda/lib/python3.6/site-packages (from requests>=2.20.0->cpi) (2.8)\n",
      "Requirement already satisfied: numpy>=1.9.0 in /opt/conda/lib/python3.6/site-packages (from pandas>=0.23.1->cpi) (1.12.1)\n",
      "Requirement already satisfied: pytz>=2011k in /opt/conda/lib/python3.6/site-packages (from pandas>=0.23.1->cpi) (2018.7)\n"
     ]
    }
   ],
   "source": [
    "#Imports\n",
    "import numpy as np\n",
    "import pandas as pd\n",
    "import matplotlib.pyplot as plt\n",
    "import seaborn as sns\n",
    "from datetime import datetime\n",
    "\n",
    "#import cpi library to adjust GDP for inflation\n",
    "import sys\n",
    "!python -m pip install cpi --user\n",
    "import cpi as cpi"
   ]
  },
  {
   "cell_type": "markdown",
   "metadata": {},
   "source": [
    "### GDP"
   ]
  },
  {
   "cell_type": "code",
   "execution_count": 6,
   "metadata": {},
   "outputs": [],
   "source": [
    "GDP_df = pd.read_excel('GDP-2.xls')"
   ]
  },
  {
   "cell_type": "markdown",
   "metadata": {},
   "source": [
    "When we first look at GDP_df, we can see that there are many rows of cells containing NaN; those cells either contain notes or have been left blank by whoever created the dataset. Rows 0-8 contain a list of details about this dataset. Row 18 contains data column titles, and row 19 and onward contain dates formatted year-month-day and values in billions of US dollars. This dataset is a record of gross domestic product measured quarterly. See rows 0-8 in GDP_details_df below."
   ]
  },
  {
   "cell_type": "code",
   "execution_count": 7,
   "metadata": {},
   "outputs": [
    {
     "data": {
      "text/html": [
       "<div>\n",
       "<style scoped>\n",
       "    .dataframe tbody tr th:only-of-type {\n",
       "        vertical-align: middle;\n",
       "    }\n",
       "\n",
       "    .dataframe tbody tr th {\n",
       "        vertical-align: top;\n",
       "    }\n",
       "\n",
       "    .dataframe thead th {\n",
       "        text-align: right;\n",
       "    }\n",
       "</style>\n",
       "<table border=\"1\" class=\"dataframe\">\n",
       "  <thead>\n",
       "    <tr style=\"text-align: right;\">\n",
       "      <th></th>\n",
       "      <th>Title:</th>\n",
       "      <th>Gross Domestic Product</th>\n",
       "    </tr>\n",
       "  </thead>\n",
       "  <tbody>\n",
       "    <tr>\n",
       "      <th>0</th>\n",
       "      <td>Series ID:</td>\n",
       "      <td>GDP</td>\n",
       "    </tr>\n",
       "    <tr>\n",
       "      <th>1</th>\n",
       "      <td>Source:</td>\n",
       "      <td>US. Bureau of Economic Analysis</td>\n",
       "    </tr>\n",
       "    <tr>\n",
       "      <th>2</th>\n",
       "      <td>Release:</td>\n",
       "      <td>Gross Domestic Product</td>\n",
       "    </tr>\n",
       "    <tr>\n",
       "      <th>3</th>\n",
       "      <td>Seasonal Adjustment:</td>\n",
       "      <td>Seasonally Adjusted Annual Rate</td>\n",
       "    </tr>\n",
       "    <tr>\n",
       "      <th>4</th>\n",
       "      <td>Frequency:</td>\n",
       "      <td>Quarterly</td>\n",
       "    </tr>\n",
       "    <tr>\n",
       "      <th>5</th>\n",
       "      <td>Units:</td>\n",
       "      <td>Billions of Dollars</td>\n",
       "    </tr>\n",
       "    <tr>\n",
       "      <th>6</th>\n",
       "      <td>Date Range:</td>\n",
       "      <td>1947-01-01 to 2016-01-01</td>\n",
       "    </tr>\n",
       "    <tr>\n",
       "      <th>7</th>\n",
       "      <td>Last Updated:</td>\n",
       "      <td>2016-05-27 7:56 AM CDT</td>\n",
       "    </tr>\n",
       "  </tbody>\n",
       "</table>\n",
       "</div>"
      ],
      "text/plain": [
       "                 Title:           Gross Domestic Product\n",
       "0            Series ID:                              GDP\n",
       "1               Source:  US. Bureau of Economic Analysis\n",
       "2              Release:           Gross Domestic Product\n",
       "3  Seasonal Adjustment:  Seasonally Adjusted Annual Rate\n",
       "4            Frequency:                        Quarterly\n",
       "5                Units:              Billions of Dollars\n",
       "6           Date Range:         1947-01-01 to 2016-01-01\n",
       "7         Last Updated:           2016-05-27 7:56 AM CDT"
      ]
     },
     "execution_count": 7,
     "metadata": {},
     "output_type": "execute_result"
    }
   ],
   "source": [
    "GDP_details_df = GDP_df.iloc[0:8,:]\n",
    "GDP_details_df"
   ]
  },
  {
   "cell_type": "markdown",
   "metadata": {},
   "source": [
    "Now isolated useful data, renumbered the indices, and added titles to the columns of data. We added titles to indicate the full date on which the data was collected and GDP in billions of US dollars."
   ]
  },
  {
   "cell_type": "code",
   "execution_count": 8,
   "metadata": {},
   "outputs": [],
   "source": [
    "GDP_df = GDP_df.iloc[19:295,:]\n",
    "GDP_df.columns = ['DATE', 'GDP (in billions)']\n",
    "GDP_df.index = range(276)"
   ]
  },
  {
   "cell_type": "markdown",
   "metadata": {},
   "source": [
    "We also extracted the years from the 'DATE' column and placed the years in a new column 'YEARS', and then isolated only 'YEAR' and 'GDP' columns from GDP_df so we can sum quarterly measurements of GDP so we have annual measurements of GDP using groupby()."
   ]
  },
  {
   "cell_type": "code",
   "execution_count": 9,
   "metadata": {},
   "outputs": [],
   "source": [
    "#extracting years from date column\n",
    "GDP_df['YEAR'] = GDP_df['DATE'].dt.year\n",
    "GDP_df = GDP_df[['DATE','YEAR','GDP (in billions)']]\n",
    "#drop the 'DATE' column\n",
    "GDP_df = GDP_df.drop('DATE',1)\n",
    "#sum quarterly measurements of GDP so we get annual measurements of GDP\n",
    "GDP_df = GDP_df.groupby(['YEAR']).sum()"
   ]
  },
  {
   "cell_type": "markdown",
   "metadata": {},
   "source": [
    "Another major problem with GDP_df is that the GDP measurements have not been adjusted for inflation. We do so using the cpi library imported earlier."
   ]
  },
  {
   "cell_type": "code",
   "execution_count": 10,
   "metadata": {},
   "outputs": [],
   "source": [
    "#i = year\n",
    "#GDP_df.at[i,'GDP'] is dollars\n",
    "\n",
    "for i in GDP_df.index:    \n",
    "    GDP_df.at[i,'GDP_adjusted (in billions)'] = cpi.inflate(GDP_df.at[i,'GDP (in billions)'], i, to = 2018)"
   ]
  },
  {
   "cell_type": "markdown",
   "metadata": {},
   "source": [
    "In addition, due to restrictions of other datasets we are using, we are only interested in the years 1984 to 2015. We reduced GDP_df to match. We also exported a copy of GDP_df as a CSV file."
   ]
  },
  {
   "cell_type": "code",
   "execution_count": 11,
   "metadata": {},
   "outputs": [
    {
     "data": {
      "text/html": [
       "<div>\n",
       "<style scoped>\n",
       "    .dataframe tbody tr th:only-of-type {\n",
       "        vertical-align: middle;\n",
       "    }\n",
       "\n",
       "    .dataframe tbody tr th {\n",
       "        vertical-align: top;\n",
       "    }\n",
       "\n",
       "    .dataframe thead th {\n",
       "        text-align: right;\n",
       "    }\n",
       "</style>\n",
       "<table border=\"1\" class=\"dataframe\">\n",
       "  <thead>\n",
       "    <tr style=\"text-align: right;\">\n",
       "      <th></th>\n",
       "      <th>GDP (in billions)</th>\n",
       "      <th>GDP_adjusted (in billions)</th>\n",
       "    </tr>\n",
       "    <tr>\n",
       "      <th>YEAR</th>\n",
       "      <th></th>\n",
       "      <th></th>\n",
       "    </tr>\n",
       "  </thead>\n",
       "  <tbody>\n",
       "    <tr>\n",
       "      <th>1984</th>\n",
       "      <td>16162.8</td>\n",
       "      <td>39062.485270</td>\n",
       "    </tr>\n",
       "    <tr>\n",
       "      <th>1985</th>\n",
       "      <td>17387.0</td>\n",
       "      <td>40576.184099</td>\n",
       "    </tr>\n",
       "    <tr>\n",
       "      <th>1986</th>\n",
       "      <td>18360.5</td>\n",
       "      <td>42066.150306</td>\n",
       "    </tr>\n",
       "    <tr>\n",
       "      <th>1987</th>\n",
       "      <td>19480.9</td>\n",
       "      <td>43061.534827</td>\n",
       "    </tr>\n",
       "    <tr>\n",
       "      <th>1988</th>\n",
       "      <td>21010.5</td>\n",
       "      <td>44597.494704</td>\n",
       "    </tr>\n",
       "    <tr>\n",
       "      <th>1989</th>\n",
       "      <td>22630.8</td>\n",
       "      <td>45828.647545</td>\n",
       "    </tr>\n",
       "    <tr>\n",
       "      <th>1990</th>\n",
       "      <td>23918.3</td>\n",
       "      <td>45952.965249</td>\n",
       "    </tr>\n",
       "    <tr>\n",
       "      <th>1991</th>\n",
       "      <td>24696.2</td>\n",
       "      <td>45531.488204</td>\n",
       "    </tr>\n",
       "    <tr>\n",
       "      <th>1992</th>\n",
       "      <td>26157.2</td>\n",
       "      <td>46815.794871</td>\n",
       "    </tr>\n",
       "    <tr>\n",
       "      <th>1993</th>\n",
       "      <td>27514.8</td>\n",
       "      <td>47814.248329</td>\n",
       "    </tr>\n",
       "    <tr>\n",
       "      <th>1994</th>\n",
       "      <td>29235.1</td>\n",
       "      <td>49535.345855</td>\n",
       "    </tr>\n",
       "    <tr>\n",
       "      <th>1995</th>\n",
       "      <td>30656.2</td>\n",
       "      <td>50511.721873</td>\n",
       "    </tr>\n",
       "    <tr>\n",
       "      <th>1996</th>\n",
       "      <td>32400.7</td>\n",
       "      <td>51854.955863</td>\n",
       "    </tr>\n",
       "    <tr>\n",
       "      <th>1997</th>\n",
       "      <td>34434.1</td>\n",
       "      <td>53873.168528</td>\n",
       "    </tr>\n",
       "    <tr>\n",
       "      <th>1998</th>\n",
       "      <td>36356.6</td>\n",
       "      <td>56008.569056</td>\n",
       "    </tr>\n",
       "    <tr>\n",
       "      <th>1999</th>\n",
       "      <td>38642.5</td>\n",
       "      <td>58243.710969</td>\n",
       "    </tr>\n",
       "    <tr>\n",
       "      <th>2000</th>\n",
       "      <td>41139.0</td>\n",
       "      <td>59990.074756</td>\n",
       "    </tr>\n",
       "    <tr>\n",
       "      <th>2001</th>\n",
       "      <td>42487.3</td>\n",
       "      <td>60242.001361</td>\n",
       "    </tr>\n",
       "    <tr>\n",
       "      <th>2002</th>\n",
       "      <td>43910.1</td>\n",
       "      <td>61290.347308</td>\n",
       "    </tr>\n",
       "    <tr>\n",
       "      <th>2003</th>\n",
       "      <td>46042.7</td>\n",
       "      <td>62835.023201</td>\n",
       "    </tr>\n",
       "    <tr>\n",
       "      <th>2004</th>\n",
       "      <td>49099.7</td>\n",
       "      <td>65268.810841</td>\n",
       "    </tr>\n",
       "    <tr>\n",
       "      <th>2005</th>\n",
       "      <td>52374.8</td>\n",
       "      <td>67340.905804</td>\n",
       "    </tr>\n",
       "    <tr>\n",
       "      <th>2006</th>\n",
       "      <td>55423.6</td>\n",
       "      <td>69033.997645</td>\n",
       "    </tr>\n",
       "    <tr>\n",
       "      <th>2007</th>\n",
       "      <td>57910.5</td>\n",
       "      <td>70134.039044</td>\n",
       "    </tr>\n",
       "    <tr>\n",
       "      <th>2008</th>\n",
       "      <td>58874.3</td>\n",
       "      <td>68664.853022</td>\n",
       "    </tr>\n",
       "    <tr>\n",
       "      <th>2009</th>\n",
       "      <td>57674.9</td>\n",
       "      <td>67506.169632</td>\n",
       "    </tr>\n",
       "    <tr>\n",
       "      <th>2010</th>\n",
       "      <td>59857.6</td>\n",
       "      <td>68930.285629</td>\n",
       "    </tr>\n",
       "    <tr>\n",
       "      <th>2011</th>\n",
       "      <td>62071.7</td>\n",
       "      <td>69292.734350</td>\n",
       "    </tr>\n",
       "    <tr>\n",
       "      <th>2012</th>\n",
       "      <td>64621.0</td>\n",
       "      <td>70675.999578</td>\n",
       "    </tr>\n",
       "    <tr>\n",
       "      <th>2013</th>\n",
       "      <td>66652.6</td>\n",
       "      <td>71845.595660</td>\n",
       "    </tr>\n",
       "    <tr>\n",
       "      <th>2014</th>\n",
       "      <td>69392.3</td>\n",
       "      <td>73604.742313</td>\n",
       "    </tr>\n",
       "    <tr>\n",
       "      <th>2015</th>\n",
       "      <td>71788.0</td>\n",
       "      <td>76055.596502</td>\n",
       "    </tr>\n",
       "  </tbody>\n",
       "</table>\n",
       "</div>"
      ],
      "text/plain": [
       "      GDP (in billions)  GDP_adjusted (in billions)\n",
       "YEAR                                               \n",
       "1984            16162.8                39062.485270\n",
       "1985            17387.0                40576.184099\n",
       "1986            18360.5                42066.150306\n",
       "1987            19480.9                43061.534827\n",
       "1988            21010.5                44597.494704\n",
       "1989            22630.8                45828.647545\n",
       "1990            23918.3                45952.965249\n",
       "1991            24696.2                45531.488204\n",
       "1992            26157.2                46815.794871\n",
       "1993            27514.8                47814.248329\n",
       "1994            29235.1                49535.345855\n",
       "1995            30656.2                50511.721873\n",
       "1996            32400.7                51854.955863\n",
       "1997            34434.1                53873.168528\n",
       "1998            36356.6                56008.569056\n",
       "1999            38642.5                58243.710969\n",
       "2000            41139.0                59990.074756\n",
       "2001            42487.3                60242.001361\n",
       "2002            43910.1                61290.347308\n",
       "2003            46042.7                62835.023201\n",
       "2004            49099.7                65268.810841\n",
       "2005            52374.8                67340.905804\n",
       "2006            55423.6                69033.997645\n",
       "2007            57910.5                70134.039044\n",
       "2008            58874.3                68664.853022\n",
       "2009            57674.9                67506.169632\n",
       "2010            59857.6                68930.285629\n",
       "2011            62071.7                69292.734350\n",
       "2012            64621.0                70675.999578\n",
       "2013            66652.6                71845.595660\n",
       "2014            69392.3                73604.742313\n",
       "2015            71788.0                76055.596502"
      ]
     },
     "execution_count": 11,
     "metadata": {},
     "output_type": "execute_result"
    }
   ],
   "source": [
    "#trim GDP_df\n",
    "GDP_df = GDP_df.loc[1984:2015,:]\n",
    "#export GDP_df\n",
    "cleaned_GDP_csv = GDP_df.to_csv (r'clean_GDP.csv')\n",
    "\n",
    "#preview\n",
    "GDP_df"
   ]
  },
  {
   "cell_type": "markdown",
   "metadata": {},
   "source": [
    "### Another Dataset"
   ]
  },
  {
   "cell_type": "code",
   "execution_count": 14,
   "metadata": {},
   "outputs": [],
   "source": [
    "#todo"
   ]
  },
  {
   "cell_type": "markdown",
   "metadata": {},
   "source": [
    "# Data Exploration"
   ]
  },
  {
   "cell_type": "markdown",
   "metadata": {},
   "source": [
    "### Visualization of GDP"
   ]
  },
  {
   "cell_type": "markdown",
   "metadata": {},
   "source": [
    "We plotted GDP_df with years on the x-axis and adjusted GDP in billions on the y-axis to give us a better feel for the data. We can see a slight dip in GDP around 2008, which occurred due to the recession."
   ]
  },
  {
   "cell_type": "code",
   "execution_count": 15,
   "metadata": {},
   "outputs": [
    {
     "data": {
      "text/plain": [
       "Text(0.5, 1.0, 'GDP from 1984 to 2015')"
      ]
     },
     "execution_count": 15,
     "metadata": {},
     "output_type": "execute_result"
    },
    {
     "data": {
      "image/png": "[encoded data removed]",
      "text/plain": [
       "<Figure size 432x288 with 1 Axes>"
      ]
     },
     "metadata": {
      "needs_background": "light"
     },
     "output_type": "display_data"
    }
   ],
   "source": [
    "plt.plot(GDP_df['GDP_adjusted (in billions)'], '')\n",
    "plt.xticks(rotation='vertical')\n",
    "plt.xlabel('DATE')\n",
    "plt.ylabel('GDP in billions of dollars (adjusted for 2018)')\n",
    "plt.title('GDP from 1984 to 2015')"
   ]
  },
  {
   "cell_type": "markdown",
   "metadata": {},
   "source": [
    "# Data Analysis and Results"
   ]
  },
  {
   "cell_type": "markdown",
   "metadata": {},
   "source": [
    "### GDP"
   ]
  },
  {
   "cell_type": "code",
   "execution_count": 13,
   "metadata": {},
   "outputs": [],
   "source": [
    "#todo"
   ]
  },
  {
   "cell_type": "markdown",
   "metadata": {},
   "source": [
    "# Ethical Considerations, Privacy, and Other Key Points"
   ]
  },
  {
   "cell_type": "markdown",
   "metadata": {},
   "source": [
    "TODO\n",
    "\n",
    "manny?"
   ]
  },
  {
   "cell_type": "markdown",
   "metadata": {},
   "source": [
    "# Conclusion and Discussion"
   ]
  },
  {
   "cell_type": "markdown",
   "metadata": {},
   "source": [
    "TBD"
   ]
  }
 ],
 "metadata": {
  "kernelspec": {
   "display_name": "Python 3",
   "language": "python",
   "name": "python3"
  },
  "language_info": {
   "codemirror_mode": {
    "name": "ipython",
    "version": 3
   },
   "file_extension": ".py",
   "mimetype": "text/x-python",
   "name": "python",
   "nbconvert_exporter": "python",
   "pygments_lexer": "ipython3",
   "version": "3.6.7"
  }
 },
 "nbformat": 4,
 "nbformat_minor": 2
}
